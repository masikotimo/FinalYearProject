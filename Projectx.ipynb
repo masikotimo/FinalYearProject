{
 "cells": [
  {
   "cell_type": "markdown",
   "metadata": {
    "colab_type": "text",
    "id": "view-in-github"
   },
   "source": [
    "<a href=\"https://colab.research.google.com/github/Prady96/Pothole-Detection/blob/avi_testing/Project_update_24th_05_07pm.ipynb\" target=\"_parent\"><img src=\"https://colab.research.google.com/assets/colab-badge.svg\" alt=\"Open In Colab\"/></a>"
   ]
  },
  {
   "cell_type": "code",
   "execution_count": 21,
   "metadata": {
    "colab": {
     "base_uri": "https://localhost:8080/",
     "height": 35
    },
    "colab_type": "code",
    "id": "IDTrbYCH2mkv",
    "outputId": "dd67d011-7811-420a-94b0-0f9a9fe15df6"
   },
   "outputs": [],
   "source": [
    "import os\n",
    "import sys\n",
    "import itertools\n",
    "import math\n",
    "import logging\n",
    "import json\n",
    "import re\n",
    "import random\n",
    "from collections import OrderedDict\n",
    "import numpy as np\n",
    "import matplotlib\n",
    "import matplotlib.pyplot as plt\n",
    "import matplotlib.patches as patches\n",
    "import matplotlib.lines as lines\n",
    "from matplotlib.patches import Polygon\n",
    "\n",
    "# Root directory of the project\n",
    "ROOT_DIR = os.getcwd()\n",
    "\n",
    "# Import Mask RCNN\n",
    "sys.path.append(ROOT_DIR)  # To find local version of the library\n",
    "from mrcnn import utils\n",
    "from mrcnn import visualize\n",
    "from mrcnn.visualize import display_images\n",
    "import mrcnn.model as modellib\n",
    "from mrcnn.model import log\n",
    "\n",
    "MODEL_DIR = os.path.join(ROOT_DIR, \"logs\")\n",
    "\n",
    "import custom\n",
    "\n",
    "%matplotlib inline"
   ]
  },
  {
   "cell_type": "code",
   "execution_count": 22,
   "metadata": {
    "colab": {
     "base_uri": "https://localhost:8080/",
     "height": 35
    },
    "colab_type": "code",
    "id": "-v-bMZaP2pL2",
    "outputId": "752591db-953b-44b1-c969-6143889a4e84"
   },
   "outputs": [
    {
     "name": "stdout",
     "output_type": "stream",
     "text": [
      "/home/timothy/Desktop/projectx/Mask_RCNN/customImages\n"
     ]
    }
   ],
   "source": [
    "config = custom.CustomConfig()\n",
    "CUSTOM_DIR = os.path.join(ROOT_DIR, \"customImages\")\n",
    "print(CUSTOM_DIR)"
   ]
  },
  {
   "cell_type": "code",
   "execution_count": 23,
   "metadata": {
    "colab": {
     "base_uri": "https://localhost:8080/",
     "height": 89
    },
    "colab_type": "code",
    "id": "bOFXAxgk2q5G",
    "outputId": "2e3a2f2f-8b0c-467c-f6bc-8ee195b19222"
   },
   "outputs": [
    {
     "name": "stdout",
     "output_type": "stream",
     "text": [
      "Imagex Count: 1457\n",
      "Class Count: 2\n",
      "  0. BG                                                \n",
      "  1. damage                                            \n"
     ]
    }
   ],
   "source": [
    "# Load dataset\n",
    "# Get the dataset from the releases page\n",
    "# https://github.com/matterport/Mask_RCNN/releases\n",
    "dataset = custom.CustomDataset()\n",
    "dataset.load_custom(CUSTOM_DIR, \"train\")\n",
    "\n",
    "# Must call before using the dataset\n",
    "dataset.prepare()\n",
    "\n",
    "print(\"Imagex Count: {}\".format(len(dataset.image_ids)))\n",
    "print(\"Class Count: {}\".format(dataset.num_classes))\n",
    "for i, info in enumerate(dataset.class_info):\n",
    "    print(\"{:3}. {:50}\".format(i, info['name']))"
   ]
  },
  {
   "cell_type": "code",
   "execution_count": 24,
   "metadata": {
    "colab": {
     "base_uri": "https://localhost:8080/",
     "height": 953
    },
    "colab_type": "code",
    "id": "3tKLWt0i2uA2",
    "outputId": "579955cb-3a93-40d1-c8c1-520e83468f73"
   },
   "outputs": [
    {
     "name": "stdout",
     "output_type": "stream",
     "text": [
      "\n",
      "Configurations:\n",
      "BACKBONE                       resnet101\n",
      "BACKBONE_STRIDES               [4, 8, 16, 32, 64]\n",
      "BATCH_SIZE                     1\n",
      "BBOX_STD_DEV                   [0.1 0.1 0.2 0.2]\n",
      "COMPUTE_BACKBONE_SHAPE         None\n",
      "DETECTION_MAX_INSTANCES        100\n",
      "DETECTION_MIN_CONFIDENCE       0.9\n",
      "DETECTION_NMS_THRESHOLD        0.3\n",
      "FPN_CLASSIF_FC_LAYERS_SIZE     1024\n",
      "GPU_COUNT                      1\n",
      "GRADIENT_CLIP_NORM             5.0\n",
      "IMAGES_PER_GPU                 1\n",
      "IMAGE_CHANNEL_COUNT            3\n",
      "IMAGE_MAX_DIM                  1024\n",
      "IMAGE_META_SIZE                14\n",
      "IMAGE_MIN_DIM                  800\n",
      "IMAGE_MIN_SCALE                0\n",
      "IMAGE_RESIZE_MODE              square\n",
      "IMAGE_SHAPE                    [1024 1024    3]\n",
      "LEARNING_MOMENTUM              0.9\n",
      "LEARNING_RATE                  0.001\n",
      "LOSS_WEIGHTS                   {'rpn_class_loss': 1.0, 'rpn_bbox_loss': 1.0, 'mrcnn_class_loss': 1.0, 'mrcnn_bbox_loss': 1.0, 'mrcnn_mask_loss': 1.0}\n",
      "MASK_POOL_SIZE                 14\n",
      "MASK_SHAPE                     [28, 28]\n",
      "MAX_GT_INSTANCES               100\n",
      "MEAN_PIXEL                     [123.7 116.8 103.9]\n",
      "MINI_MASK_SHAPE                (56, 56)\n",
      "NAME                           damage\n",
      "NUM_CLASSES                    2\n",
      "POOL_SIZE                      7\n",
      "POST_NMS_ROIS_INFERENCE        1000\n",
      "POST_NMS_ROIS_TRAINING         2000\n",
      "PRE_NMS_LIMIT                  6000\n",
      "ROI_POSITIVE_RATIO             0.33\n",
      "RPN_ANCHOR_RATIOS              [0.5, 1, 2]\n",
      "RPN_ANCHOR_SCALES              (32, 64, 128, 256, 512)\n",
      "RPN_ANCHOR_STRIDE              1\n",
      "RPN_BBOX_STD_DEV               [0.1 0.1 0.2 0.2]\n",
      "RPN_NMS_THRESHOLD              0.7\n",
      "RPN_TRAIN_ANCHORS_PER_IMAGE    256\n",
      "STEPS_PER_EPOCH                100\n",
      "TOP_DOWN_PYRAMID_SIZE          256\n",
      "TRAIN_BN                       False\n",
      "TRAIN_ROIS_PER_IMAGE           200\n",
      "USE_MINI_MASK                  True\n",
      "USE_RPN_ROIS                   True\n",
      "VALIDATION_STEPS               50\n",
      "WEIGHT_DECAY                   0.0001\n",
      "\n",
      "\n"
     ]
    }
   ],
   "source": [
    "class InferenceConfig(custom.CustomConfig):\n",
    "    # Set batch size to 1 since we'll be running inference on\n",
    "    # one image at a time. Batch size = GPU_COUNT * IMAGES_PER_GPU\n",
    "    GPU_COUNT = 1\n",
    "    IMAGES_PER_GPU = 1\n",
    "\n",
    "config = InferenceConfig()\n",
    "config.display()"
   ]
  },
  {
   "cell_type": "code",
   "execution_count": 25,
   "metadata": {
    "colab": {},
    "colab_type": "code",
    "id": "NLEPCnHo2yBY"
   },
   "outputs": [],
   "source": [
    "#lists the content of your google drive\n",
    "# !ls \"/content/drive/My Drive/Potholes_tataInnoverse/30\""
   ]
  },
  {
   "cell_type": "code",
   "execution_count": 26,
   "metadata": {
    "colab": {
     "base_uri": "https://localhost:8080/",
     "height": 145
    },
    "colab_type": "code",
    "id": "FQZScwkK3Tmg",
    "outputId": "1ed61a54-442c-49f9-c889-de73703f8ef2"
   },
   "outputs": [],
   "source": [
    "# Create model object in inference mode.\n",
    "model = modellib.MaskRCNN(mode=\"inference\", model_dir=MODEL_DIR, config=config)\n",
    "\n",
    "# Load weights trained on MS-COCO\n",
    "model.load_weights(\"logs/mask_rcnn_damage_0160.h5\", by_name=True)"
   ]
  },
  {
   "cell_type": "code",
   "execution_count": 27,
   "metadata": {
    "colab": {},
    "colab_type": "code",
    "id": "6CDWTAz93bqP"
   },
   "outputs": [],
   "source": [
    "class_names = ['BG', 'damage']"
   ]
  },
  {
   "cell_type": "code",
   "execution_count": 28,
   "metadata": {
    "colab": {},
    "colab_type": "code",
    "id": "U_Qbcc103fem"
   },
   "outputs": [],
   "source": [
    "import os\n",
    "import sys\n",
    "import custom\n",
    "import utils"
   ]
  },
  {
   "cell_type": "code",
   "execution_count": 29,
   "metadata": {
    "colab": {
     "base_uri": "https://localhost:8080/",
     "height": 35
    },
    "colab_type": "code",
    "id": "LECDso3y3g3P",
    "outputId": "ac80b94e-9e49-4159-82a2-a5ca3e230199"
   },
   "outputs": [
    {
     "name": "stdout",
     "output_type": "stream",
     "text": [
      "/home/timothy/Desktop/projectx/Mask_RCNN/mrcnn\n"
     ]
    }
   ],
   "source": [
    "%cd mrcnn"
   ]
  },
  {
   "cell_type": "code",
   "execution_count": 30,
   "metadata": {
    "colab": {},
    "colab_type": "code",
    "id": "AoxG4eTN3oEG"
   },
   "outputs": [],
   "source": [
    "import model as modellib"
   ]
  },
  {
   "cell_type": "code",
   "execution_count": 31,
   "metadata": {
    "colab": {
     "base_uri": "https://localhost:8080/",
     "height": 35
    },
    "colab_type": "code",
    "id": "eIBiOOJL3pX9",
    "outputId": "e6df7f19-7c4c-4785-ee2d-972a822c9896"
   },
   "outputs": [
    {
     "name": "stdout",
     "output_type": "stream",
     "text": [
      "/home/timothy/Desktop/projectx/Mask_RCNN\n"
     ]
    }
   ],
   "source": [
    "%cd .."
   ]
  },
  {
   "cell_type": "code",
   "execution_count": 32,
   "metadata": {
    "colab": {},
    "colab_type": "code",
    "id": "3LyqChWD3qRm"
   },
   "outputs": [],
   "source": [
    "import cv2\n",
    "import numpy as np"
   ]
  },
  {
   "cell_type": "code",
   "execution_count": 33,
   "metadata": {
    "colab": {},
    "colab_type": "code",
    "id": "A9oddVsZ3rjd"
   },
   "outputs": [],
   "source": [
    "## Testing\n",
    "from PIL import Image, ImageDraw, ImageFont"
   ]
  },
  {
   "cell_type": "code",
   "execution_count": 34,
   "metadata": {},
   "outputs": [
    {
     "data": {
      "text/plain": [
       "'/home/timothy/Desktop/projectx/Mask_RCNN'"
      ]
     },
     "execution_count": 34,
     "metadata": {},
     "output_type": "execute_result"
    }
   ],
   "source": [
    "pwd"
   ]
  },
  {
   "cell_type": "code",
   "execution_count": 35,
   "metadata": {},
   "outputs": [
    {
     "name": "stdout",
     "output_type": "stream",
     "text": [
      "/home/timothy/Desktop/projectx/Mask_RCNN/S3_Images/images_800\n"
     ]
    }
   ],
   "source": [
    "cd S3_Images/images_800"
   ]
  },
  {
   "cell_type": "code",
   "execution_count": 36,
   "metadata": {
    "colab": {},
    "colab_type": "code",
    "id": "XDaoNkf27u39",
    "scrolled": true
   },
   "outputs": [
    {
     "name": "stdout",
     "output_type": "stream",
     "text": [
      "1\n",
      "2\n",
      "3\n",
      "4\n",
      "5\n",
      "6\n",
      "7\n",
      "8\n",
      "9\n",
      "Bad Image BulkResizePhotos.html9\n",
      "10\n",
      "11\n",
      "12\n",
      "13\n",
      "14\n",
      "15\n"
     ]
    }
   ],
   "source": [
    "from PIL import Image\n",
    "import os\n",
    "from resizeimage import resizeimage\n",
    "\n",
    "count = 0\n",
    "\n",
    "for f in os.listdir(os.getcwd()):\n",
    "    f_name, f_ext = os.path.splitext(f)\n",
    "#     f_random, f_lat_name,f_lat_val,f_long_name,f_long_val = f_name.split('-')\n",
    "#     f_lat_val = f_lat_val.strip() ##removing the white Space\n",
    "#     f_long_val = f_long_val.strip()\n",
    "#     new_name = '{}-{}-{}.jpg'.format(f_lat_val,f_long_val,count)\n",
    "    try:\n",
    "        with Image.open(f) as image:\n",
    "            count +=1\n",
    "            cover = resizeimage.resize_cover(image, [600,600])\n",
    "            cover.save('{}{}'.format(f_name,f_ext),image.format)\n",
    "            #os.remove(f)\n",
    "            print(count)\n",
    "    except(OSError) as e:\n",
    "        print('Bad Image {}{}'.format(f,count))"
   ]
  },
  {
   "cell_type": "code",
   "execution_count": 37,
   "metadata": {},
   "outputs": [
    {
     "data": {
      "text/plain": [
       "'/home/timothy/Desktop/projectx/Mask_RCNN/S3_Images/images_800'"
      ]
     },
     "execution_count": 37,
     "metadata": {},
     "output_type": "execute_result"
    }
   ],
   "source": [
    "pwd"
   ]
  },
  {
   "cell_type": "code",
   "execution_count": 38,
   "metadata": {},
   "outputs": [
    {
     "name": "stdout",
     "output_type": "stream",
     "text": [
      "/home/timothy/Desktop/projectx/Mask_RCNN/S3_Images\n"
     ]
    }
   ],
   "source": [
    "cd ../"
   ]
  },
  {
   "cell_type": "code",
   "execution_count": 39,
   "metadata": {},
   "outputs": [
    {
     "name": "stdout",
     "output_type": "stream",
     "text": [
      "/home/timothy/Desktop/projectx/Mask_RCNN\n"
     ]
    }
   ],
   "source": [
    "cd ../"
   ]
  },
  {
   "cell_type": "code",
   "execution_count": 40,
   "metadata": {
    "colab": {},
    "colab_type": "code",
    "id": "Alkluh9k8ca1",
    "scrolled": true
   },
   "outputs": [
    {
     "name": "stdout",
     "output_type": "stream",
     "text": [
      "\n",
      "Configurations:\n",
      "BACKBONE                       resnet101\n",
      "BACKBONE_STRIDES               [4, 8, 16, 32, 64]\n",
      "BATCH_SIZE                     3\n",
      "BBOX_STD_DEV                   [0.1 0.1 0.2 0.2]\n",
      "COMPUTE_BACKBONE_SHAPE         None\n",
      "DETECTION_MAX_INSTANCES        100\n",
      "DETECTION_MIN_CONFIDENCE       0.9\n",
      "DETECTION_NMS_THRESHOLD        0.3\n",
      "FPN_CLASSIF_FC_LAYERS_SIZE     1024\n",
      "GPU_COUNT                      1\n",
      "GRADIENT_CLIP_NORM             5.0\n",
      "IMAGES_PER_GPU                 3\n",
      "IMAGE_CHANNEL_COUNT            3\n",
      "IMAGE_MAX_DIM                  1024\n",
      "IMAGE_META_SIZE                14\n",
      "IMAGE_MIN_DIM                  800\n",
      "IMAGE_MIN_SCALE                0\n",
      "IMAGE_RESIZE_MODE              square\n",
      "IMAGE_SHAPE                    [1024 1024    3]\n",
      "LEARNING_MOMENTUM              0.9\n",
      "LEARNING_RATE                  0.001\n",
      "LOSS_WEIGHTS                   {'rpn_class_loss': 1.0, 'rpn_bbox_loss': 1.0, 'mrcnn_class_loss': 1.0, 'mrcnn_bbox_loss': 1.0, 'mrcnn_mask_loss': 1.0}\n",
      "MASK_POOL_SIZE                 14\n",
      "MASK_SHAPE                     [28, 28]\n",
      "MAX_GT_INSTANCES               100\n",
      "MEAN_PIXEL                     [123.7 116.8 103.9]\n",
      "MINI_MASK_SHAPE                (56, 56)\n",
      "NAME                           damage\n",
      "NUM_CLASSES                    2\n",
      "POOL_SIZE                      7\n",
      "POST_NMS_ROIS_INFERENCE        1000\n",
      "POST_NMS_ROIS_TRAINING         2000\n",
      "PRE_NMS_LIMIT                  6000\n",
      "ROI_POSITIVE_RATIO             0.33\n",
      "RPN_ANCHOR_RATIOS              [0.5, 1, 2]\n",
      "RPN_ANCHOR_SCALES              (32, 64, 128, 256, 512)\n",
      "RPN_ANCHOR_STRIDE              1\n",
      "RPN_BBOX_STD_DEV               [0.1 0.1 0.2 0.2]\n",
      "RPN_NMS_THRESHOLD              0.7\n",
      "RPN_TRAIN_ANCHORS_PER_IMAGE    256\n",
      "STEPS_PER_EPOCH                100\n",
      "TOP_DOWN_PYRAMID_SIZE          256\n",
      "TRAIN_BN                       False\n",
      "TRAIN_ROIS_PER_IMAGE           200\n",
      "USE_MINI_MASK                  True\n",
      "USE_RPN_ROIS                   True\n",
      "VALIDATION_STEPS               50\n",
      "WEIGHT_DECAY                   0.0001\n",
      "\n",
      "\n",
      "frame_count :1\n",
      "frame_count :2\n",
      "frame_count :3\n",
      "WARNING:tensorflow:From /home/timothy/.virtualenvs/project/lib/python3.6/site-packages/keras/backend/tensorflow_backend.py:422: The name tf.global_variables is deprecated. Please use tf.compat.v1.global_variables instead.\n",
      "\n",
      "Predicted\n",
      "writing to file:/home/timothy/Desktop/projectx/Mask_RCNN/videos/save/frame3.jpg\n",
      "class_id value is 1\n",
      "counter for the class ID 1\n",
      "area is 2520\n",
      "[1] [0.99988055]\n",
      "[2520]\n",
      "image_name is /home/timothy/Desktop/projectx/Mask_RCNN/videos/save/frame3.jpg\n",
      "image name is frame3.jpg\n",
      "avi96 [2520]\n",
      "New Name file is [2520]-[0.99988055].jpg\n",
      "save_dir is /home/timothy/Desktop/projectx/Mask_RCNN/videos/save\n",
      "file Saved [2520]-[0.99988055].jpg\n",
      "NO INSTANCES TO DISPLAY\n",
      "writing to file:/home/timothy/Desktop/projectx/Mask_RCNN/videos/save/frame3.jpg\n",
      "\n",
      "*** No instances in image /home/timothy/Desktop/projectx/Mask_RCNN/videos/save/frame3.jpg to draw *** \n",
      "\n",
      "writing to file:/home/timothy/Desktop/projectx/Mask_RCNN/videos/save/frame3.jpg\n",
      "class_id value is 1\n",
      "counter for the class ID 1\n",
      "area is 27744\n",
      "class_id value is 1\n",
      "counter for the class ID 2\n",
      "area is 15219\n",
      "[1 1] [0.9999858 0.9999677]\n",
      "[27744, 15219]\n",
      "image_name is /home/timothy/Desktop/projectx/Mask_RCNN/videos/save/frame3.jpg\n",
      "image name is frame3.jpg\n",
      "avi96 [27744, 15219]\n",
      "New Name file is [27744, 15219]-[0.9999858 0.9999677].jpg\n",
      "save_dir is /home/timothy/Desktop/projectx/Mask_RCNN/videos/save\n",
      "file Saved [27744, 15219]-[0.9999858 0.9999677].jpg\n",
      "clear\n",
      "frame_count :4\n",
      "frame_count :5\n",
      "frame_count :6\n",
      "Predicted\n",
      "writing to file:/home/timothy/Desktop/projectx/Mask_RCNN/videos/save/Adachi_20170911112605.jpg\n",
      "class_id value is 1\n",
      "counter for the class ID 1\n",
      "area is 1520\n",
      "[1] [0.99994373]\n",
      "[1520]\n",
      "image_name is /home/timothy/Desktop/projectx/Mask_RCNN/videos/save/Adachi_20170911112605.jpg\n",
      "image name is Adachi_20170911112605.jpg\n",
      "avi96 [1520]\n",
      "New Name file is [1520]-[0.99994373].jpg\n",
      "save_dir is /home/timothy/Desktop/projectx/Mask_RCNN/videos/save\n",
      "file Saved [1520]-[0.99994373].jpg\n",
      "NO INSTANCES TO DISPLAY\n",
      "writing to file:/home/timothy/Desktop/projectx/Mask_RCNN/videos/save/Adachi_20170911112605.jpg\n",
      "\n",
      "*** No instances in image /home/timothy/Desktop/projectx/Mask_RCNN/videos/save/Adachi_20170911112605.jpg to draw *** \n",
      "\n",
      "NO INSTANCES TO DISPLAY\n",
      "writing to file:/home/timothy/Desktop/projectx/Mask_RCNN/videos/save/Adachi_20170911112605.jpg\n",
      "\n",
      "*** No instances in image /home/timothy/Desktop/projectx/Mask_RCNN/videos/save/Adachi_20170911112605.jpg to draw *** \n",
      "\n",
      "clear\n",
      "frame_count :7\n",
      "frame_count :8\n",
      "frame_count :9\n",
      "Predicted\n",
      "writing to file:/home/timothy/Desktop/projectx/Mask_RCNN/videos/save/pgm-bw-112-_98.jpg\n",
      "class_id value is 1\n",
      "counter for the class ID 1\n",
      "area is 13676\n",
      "class_id value is 1\n",
      "counter for the class ID 2\n",
      "area is 9785\n",
      "class_id value is 1\n",
      "counter for the class ID 3\n",
      "area is 18915\n",
      "class_id value is 1\n",
      "counter for the class ID 4\n",
      "area is 3528\n",
      "class_id value is 1\n",
      "counter for the class ID 5\n",
      "area is 8704\n",
      "[1 1 1 1 1] [0.9999808  0.9998956  0.9998634  0.99794704 0.9850227 ]\n",
      "[13676, 9785, 18915, 3528, 8704]\n",
      "image_name is /home/timothy/Desktop/projectx/Mask_RCNN/videos/save/pgm-bw-112-_98.jpg\n",
      "image name is pgm-bw-112-_98.jpg\n",
      "avi96 [13676, 9785, 18915, 3528, 8704]\n",
      "New Name file is [13676, 9785, 18915, 3528, 8704]-[0.9999808  0.9998956  0.9998634  0.99794704 0.9850227 ].jpg\n",
      "save_dir is /home/timothy/Desktop/projectx/Mask_RCNN/videos/save\n",
      "file Saved [13676, 9785, 18915, 3528, 8704]-[0.9999808  0.9998956  0.9998634  0.99794704 0.9850227 ].jpg\n",
      "writing to file:/home/timothy/Desktop/projectx/Mask_RCNN/videos/save/pgm-bw-112-_98.jpg\n",
      "class_id value is 1\n",
      "counter for the class ID 1\n",
      "area is 75\n",
      "class_id value is 1\n",
      "counter for the class ID 2\n",
      "area is 68\n",
      "class_id value is 1\n",
      "counter for the class ID 3\n",
      "area is 156\n",
      "[1 1 1] [0.99882025 0.9963391  0.9828452 ]\n",
      "[75, 68, 156]\n",
      "image_name is /home/timothy/Desktop/projectx/Mask_RCNN/videos/save/pgm-bw-112-_98.jpg\n",
      "image name is pgm-bw-112-_98.jpg\n",
      "avi96 [75, 68, 156]\n",
      "New Name file is [75, 68, 156]-[0.99882025 0.9963391  0.9828452 ].jpg\n",
      "save_dir is /home/timothy/Desktop/projectx/Mask_RCNN/videos/save\n",
      "file Saved [75, 68, 156]-[0.99882025 0.9963391  0.9828452 ].jpg\n",
      "NO INSTANCES TO DISPLAY\n",
      "writing to file:/home/timothy/Desktop/projectx/Mask_RCNN/videos/save/pgm-bw-112-_98.jpg\n",
      "\n",
      "*** No instances in image /home/timothy/Desktop/projectx/Mask_RCNN/videos/save/pgm-bw-112-_98.jpg to draw *** \n",
      "\n",
      "clear\n",
      "Bad Image S3_Images/images_800/BulkResizePhotos.html\n",
      "frame_count :10\n",
      "frame_count :11\n",
      "frame_count :12\n",
      "Predicted\n",
      "NO INSTANCES TO DISPLAY\n",
      "writing to file:/home/timothy/Desktop/projectx/Mask_RCNN/videos/save/IMG_4991.jpg\n",
      "\n",
      "*** No instances in image /home/timothy/Desktop/projectx/Mask_RCNN/videos/save/IMG_4991.jpg to draw *** \n",
      "\n",
      "NO INSTANCES TO DISPLAY\n",
      "writing to file:/home/timothy/Desktop/projectx/Mask_RCNN/videos/save/IMG_4991.jpg\n",
      "\n",
      "*** No instances in image /home/timothy/Desktop/projectx/Mask_RCNN/videos/save/IMG_4991.jpg to draw *** \n",
      "\n",
      "writing to file:/home/timothy/Desktop/projectx/Mask_RCNN/videos/save/IMG_4991.jpg\n",
      "class_id value is 1\n",
      "counter for the class ID 1\n",
      "area is 2544\n",
      "[1] [0.99984765]\n",
      "[2544]\n",
      "image_name is /home/timothy/Desktop/projectx/Mask_RCNN/videos/save/IMG_4991.jpg\n",
      "image name is IMG_4991.jpg\n",
      "avi96 [2544]\n",
      "New Name file is [2544]-[0.99984765].jpg\n",
      "save_dir is /home/timothy/Desktop/projectx/Mask_RCNN/videos/save\n",
      "file Saved [2544]-[0.99984765].jpg\n",
      "clear\n",
      "frame_count :13\n",
      "frame_count :14\n",
      "frame_count :15\n",
      "Predicted\n",
      "writing to file:/home/timothy/Desktop/projectx/Mask_RCNN/videos/save/IMG_6746.jpg\n",
      "class_id value is 1\n",
      "counter for the class ID 1\n",
      "area is 1386\n",
      "[1] [0.99386674]\n",
      "[1386]\n",
      "image_name is /home/timothy/Desktop/projectx/Mask_RCNN/videos/save/IMG_6746.jpg\n",
      "image name is IMG_6746.jpg\n",
      "avi96 [1386]\n",
      "New Name file is [1386]-[0.99386674].jpg\n",
      "save_dir is /home/timothy/Desktop/projectx/Mask_RCNN/videos/save\n",
      "file Saved [1386]-[0.99386674].jpg\n",
      "writing to file:/home/timothy/Desktop/projectx/Mask_RCNN/videos/save/IMG_6746.jpg\n",
      "class_id value is 1\n",
      "counter for the class ID 1\n",
      "area is 546\n",
      "[1] [0.9990226]\n",
      "[546]\n",
      "image_name is /home/timothy/Desktop/projectx/Mask_RCNN/videos/save/IMG_6746.jpg\n",
      "image name is IMG_6746.jpg\n",
      "avi96 [546]\n",
      "New Name file is [546]-[0.9990226].jpg\n",
      "save_dir is /home/timothy/Desktop/projectx/Mask_RCNN/videos/save\n",
      "file Saved [546]-[0.9990226].jpg\n",
      "writing to file:/home/timothy/Desktop/projectx/Mask_RCNN/videos/save/IMG_6746.jpg\n",
      "class_id value is 1\n",
      "counter for the class ID 1\n",
      "area is 1520\n",
      "[1] [0.99486166]\n",
      "[1520]\n",
      "image_name is /home/timothy/Desktop/projectx/Mask_RCNN/videos/save/IMG_6746.jpg\n",
      "image name is IMG_6746.jpg\n",
      "avi96 [1520]\n",
      "New Name file is [1520]-[0.99486166].jpg\n",
      "save_dir is /home/timothy/Desktop/projectx/Mask_RCNN/videos/save\n"
     ]
    },
    {
     "name": "stdout",
     "output_type": "stream",
     "text": [
      "file Saved [1520]-[0.99486166].jpg\n",
      "clear\n",
      "Success, check the folder\n",
      "frame_count :1\n",
      "frame_count :2\n",
      "frame_count :3\n",
      "Predicted\n",
      "NO INSTANCES TO DISPLAY\n",
      "\n",
      "*** No instances in image /home/timothy/Desktop/projectx/Mask_RCNN/videos/save/IMG_6746.jpg to draw *** \n",
      "\n",
      "NO INSTANCES TO DISPLAY\n",
      "\n",
      "*** No instances in image /home/timothy/Desktop/projectx/Mask_RCNN/videos/save/IMG_6746.jpg to draw *** \n",
      "\n",
      "NO INSTANCES TO DISPLAY\n",
      "\n",
      "*** No instances in image /home/timothy/Desktop/projectx/Mask_RCNN/videos/save/IMG_6746.jpg to draw *** \n",
      "\n",
      "frame_count :4\n",
      "frame_count :5\n",
      "frame_count :6\n",
      "Predicted\n",
      "NO INSTANCES TO DISPLAY\n",
      "\n",
      "*** No instances in image /home/timothy/Desktop/projectx/Mask_RCNN/videos/save/IMG_6746.jpg to draw *** \n",
      "\n",
      "NO INSTANCES TO DISPLAY\n",
      "\n",
      "*** No instances in image /home/timothy/Desktop/projectx/Mask_RCNN/videos/save/IMG_6746.jpg to draw *** \n",
      "\n",
      "NO INSTANCES TO DISPLAY\n",
      "\n",
      "*** No instances in image /home/timothy/Desktop/projectx/Mask_RCNN/videos/save/IMG_6746.jpg to draw *** \n",
      "\n",
      "frame_count :7\n",
      "frame_count :8\n",
      "frame_count :9\n",
      "Predicted\n",
      "NO INSTANCES TO DISPLAY\n",
      "\n",
      "*** No instances in image /home/timothy/Desktop/projectx/Mask_RCNN/videos/save/IMG_6746.jpg to draw *** \n",
      "\n",
      "NO INSTANCES TO DISPLAY\n",
      "\n",
      "*** No instances in image /home/timothy/Desktop/projectx/Mask_RCNN/videos/save/IMG_6746.jpg to draw *** \n",
      "\n",
      "NO INSTANCES TO DISPLAY\n",
      "\n",
      "*** No instances in image /home/timothy/Desktop/projectx/Mask_RCNN/videos/save/IMG_6746.jpg to draw *** \n",
      "\n",
      "frame_count :10\n",
      "frame_count :11\n",
      "frame_count :12\n",
      "Predicted\n",
      "NO INSTANCES TO DISPLAY\n",
      "\n",
      "*** No instances in image /home/timothy/Desktop/projectx/Mask_RCNN/videos/save/IMG_6746.jpg to draw *** \n",
      "\n",
      "NO INSTANCES TO DISPLAY\n",
      "\n",
      "*** No instances in image /home/timothy/Desktop/projectx/Mask_RCNN/videos/save/IMG_6746.jpg to draw *** \n",
      "\n",
      "NO INSTANCES TO DISPLAY\n",
      "\n",
      "*** No instances in image /home/timothy/Desktop/projectx/Mask_RCNN/videos/save/IMG_6746.jpg to draw *** \n",
      "\n",
      "frame_count :13\n",
      "frame_count :14\n",
      "frame_count :15\n",
      "Predicted\n",
      "NO INSTANCES TO DISPLAY\n",
      "\n",
      "*** No instances in image /home/timothy/Desktop/projectx/Mask_RCNN/videos/save/IMG_6746.jpg to draw *** \n",
      "\n",
      "NO INSTANCES TO DISPLAY\n",
      "\n",
      "*** No instances in image /home/timothy/Desktop/projectx/Mask_RCNN/videos/save/IMG_6746.jpg to draw *** \n",
      "\n",
      "NO INSTANCES TO DISPLAY\n",
      "\n",
      "*** No instances in image /home/timothy/Desktop/projectx/Mask_RCNN/videos/save/IMG_6746.jpg to draw *** \n",
      "\n",
      "frame_count :16\n",
      "frame_count :17\n",
      "frame_count :18\n",
      "Predicted\n",
      "NO INSTANCES TO DISPLAY\n",
      "\n",
      "*** No instances in image /home/timothy/Desktop/projectx/Mask_RCNN/videos/save/IMG_6746.jpg to draw *** \n",
      "\n",
      "NO INSTANCES TO DISPLAY\n",
      "\n",
      "*** No instances in image /home/timothy/Desktop/projectx/Mask_RCNN/videos/save/IMG_6746.jpg to draw *** \n",
      "\n",
      "NO INSTANCES TO DISPLAY\n",
      "\n",
      "*** No instances in image /home/timothy/Desktop/projectx/Mask_RCNN/videos/save/IMG_6746.jpg to draw *** \n",
      "\n",
      "frame_count :19\n",
      "frame_count :20\n",
      "frame_count :21\n",
      "Predicted\n",
      "NO INSTANCES TO DISPLAY\n",
      "\n",
      "*** No instances in image /home/timothy/Desktop/projectx/Mask_RCNN/videos/save/IMG_6746.jpg to draw *** \n",
      "\n"
     ]
    },
    {
     "ename": "AttributeError",
     "evalue": "'JpegImageFile' object has no attribute 'astype'",
     "output_type": "error",
     "traceback": [
      "\u001b[0;31m---------------------------------------------------------------------------\u001b[0m",
      "\u001b[0;31mAttributeError\u001b[0m                            Traceback (most recent call last)",
      "\u001b[0;32m<ipython-input-40-be9dace8678e>\u001b[0m in \u001b[0;36m<module>\u001b[0;34m()\u001b[0m\n\u001b[1;32m    339\u001b[0m \u001b[0;31m#                             class_names, r['scores'])\u001b[0m\u001b[0;34m\u001b[0m\u001b[0;34m\u001b[0m\u001b[0;34m\u001b[0m\u001b[0m\n\u001b[1;32m    340\u001b[0m                 save_image(image, name, r['rois'], r['masks'], r['class_ids'],\n\u001b[0;32m--> 341\u001b[0;31m                                      r['scores'],class_names, save_dir=VIDEO_SAVE_DIR, mode=1)\n\u001b[0m\u001b[1;32m    342\u001b[0m \u001b[0;31m#                 print(r['class_ids'], r['scores'])\u001b[0m\u001b[0;34m\u001b[0m\u001b[0;34m\u001b[0m\u001b[0;34m\u001b[0m\u001b[0m\n\u001b[1;32m    343\u001b[0m \u001b[0;34m\u001b[0m\u001b[0m\n",
      "\u001b[0;32m<ipython-input-40-be9dace8678e>\u001b[0m in \u001b[0;36msave_image\u001b[0;34m(image, image_name, boxes, masks, class_ids, scores, class_names, filter_classs_names, scores_thresh, save_dir, mode)\u001b[0m\n\u001b[1;32m    114\u001b[0m \u001b[0;34m\u001b[0m\u001b[0m\n\u001b[1;32m    115\u001b[0m     \u001b[0;32mif\u001b[0m \u001b[0mmode\u001b[0m \u001b[0;34m!=\u001b[0m \u001b[0;36m3\u001b[0m\u001b[0;34m:\u001b[0m\u001b[0;34m\u001b[0m\u001b[0;34m\u001b[0m\u001b[0m\n\u001b[0;32m--> 116\u001b[0;31m         \u001b[0mmasked_image\u001b[0m \u001b[0;34m=\u001b[0m \u001b[0mimage\u001b[0m\u001b[0;34m.\u001b[0m\u001b[0mastype\u001b[0m\u001b[0;34m(\u001b[0m\u001b[0mnp\u001b[0m\u001b[0;34m.\u001b[0m\u001b[0muint8\u001b[0m\u001b[0;34m)\u001b[0m\u001b[0;34m.\u001b[0m\u001b[0mcopy\u001b[0m\u001b[0;34m(\u001b[0m\u001b[0;34m)\u001b[0m\u001b[0;34m\u001b[0m\u001b[0;34m\u001b[0m\u001b[0m\n\u001b[0m\u001b[1;32m    117\u001b[0m     \u001b[0;32melse\u001b[0m\u001b[0;34m:\u001b[0m\u001b[0;34m\u001b[0m\u001b[0;34m\u001b[0m\u001b[0m\n\u001b[1;32m    118\u001b[0m         \u001b[0mmasked_image\u001b[0m \u001b[0;34m=\u001b[0m \u001b[0mnp\u001b[0m\u001b[0;34m.\u001b[0m\u001b[0mzeros\u001b[0m\u001b[0;34m(\u001b[0m\u001b[0mimage\u001b[0m\u001b[0;34m.\u001b[0m\u001b[0mshape\u001b[0m\u001b[0;34m)\u001b[0m\u001b[0;34m.\u001b[0m\u001b[0mastype\u001b[0m\u001b[0;34m(\u001b[0m\u001b[0mnp\u001b[0m\u001b[0;34m.\u001b[0m\u001b[0muint8\u001b[0m\u001b[0;34m)\u001b[0m\u001b[0;34m\u001b[0m\u001b[0;34m\u001b[0m\u001b[0m\n",
      "\u001b[0;31mAttributeError\u001b[0m: 'JpegImageFile' object has no attribute 'astype'"
     ]
    }
   ],
   "source": [
    "# Main file for the file iteration\n",
    "import cv2\n",
    "import numpy as np\n",
    "from PIL import Image, ImageDraw, ImageFont\n",
    "myList = [] ## area list\n",
    "classList = [] ##class Id List\n",
    "\n",
    "def random_colors(N):\n",
    "    np.random.seed(1)\n",
    "    colors = [tuple(255 * np.random.rand(3)) for _ in range(N)]\n",
    "    return colors\n",
    "\n",
    "\n",
    "def apply_mask(image, mask, color, alpha=0.5):\n",
    "    \"\"\"apply mask to image\"\"\"\n",
    "    for n, c in enumerate(color):\n",
    "        image[:, :, n] = np.where(\n",
    "            mask == 1,\n",
    "            image[:, :, n] * (1 - alpha) + alpha * c,\n",
    "            image[:, :, n]\n",
    "        )\n",
    "    return image\n",
    "\n",
    "\n",
    "def display_instances(image, boxes, masks, ids, names, scores):\n",
    "    \"\"\"\n",
    "        take the image and results and apply the mask, box, and Label\n",
    "    \"\"\"\n",
    "    n_instances = boxes.shape[0]\n",
    "    colors = random_colors(n_instances)\n",
    "\n",
    "    if not n_instances:\n",
    "        print('NO INSTANCES TO DISPLAY')\n",
    "    else:\n",
    "        assert boxes.shape[0] == masks.shape[-1] == ids.shape[0]\n",
    "\n",
    "    for i, color in enumerate(colors):\n",
    "        if not np.any(boxes[i]):\n",
    "            continue\n",
    "\n",
    "        y1, x1, y2, x2 = boxes[i]\n",
    "        label = names[ids[i]]\n",
    "        score = scores[i] if scores is not None else None\n",
    "        caption = '{} {:.2f}'.format(label, score) if score else label\n",
    "        mask = masks[:, :, i]\n",
    "\n",
    "        image = apply_mask(image, mask, color)\n",
    "        image = cv2.rectangle(image, (x1, y1), (x2, y2), color, 2)\n",
    "        image = cv2.putText(\n",
    "            image, caption, (x1, y1), cv2.FONT_HERSHEY_COMPLEX, 0.7, color, 2\n",
    "        )\n",
    "\n",
    "    return image\n",
    "\n",
    "\n",
    "def save_image(image, image_name, boxes, masks, class_ids, scores, class_names, filter_classs_names=None,\n",
    "               scores_thresh=0.1, save_dir=None, mode=0):\n",
    "    \"\"\"\n",
    "        image: image array\n",
    "        image_name: image name\n",
    "        boxes: [num_instance, (y1, x1, y2, x2, class_id)] in image coordinates.\n",
    "        masks: [num_instances, height, width]\n",
    "        class_ids: [num_instances]\n",
    "        scores: confidence scores for each box\n",
    "        class_names: list of class names of the dataset\n",
    "        filter_classs_names: (optional) list of class names we want to draw\n",
    "        scores_thresh: (optional) threshold of confidence scores\n",
    "        save_dir: (optional) the path to store image\n",
    "        mode: (optional) select the result which you want\n",
    "                mode = 0 , save image with bbox,class_name,score and mask;\n",
    "                mode = 1 , save image with bbox,class_name and score;\n",
    "                mode = 2 , save image with class_name,score and mask;\n",
    "                mode = 3 , save mask with black background;\n",
    "    \"\"\"\n",
    "    mode_list = [0, 1, 2, 3]\n",
    "    assert mode in mode_list, \"mode's value should in mode_list %s\" % str(mode_list)\n",
    "\n",
    "    if save_dir is None:\n",
    "        save_dir = os.path.join(os.getcwd(), \"output\")\n",
    "        if not os.path.exists(save_dir):\n",
    "            os.makedirs(save_dir)\n",
    "\n",
    "    useful_mask_indices = []\n",
    "\n",
    "    N = boxes.shape[0]\n",
    "    if not N:\n",
    "        print(\"\\n*** No instances in image %s to draw *** \\n\" % (image_name))\n",
    "        return\n",
    "    else:\n",
    "        assert boxes.shape[0] == masks.shape[-1] == class_ids.shape[0]\n",
    "\n",
    "    for i in range(N):\n",
    "        # filter\n",
    "        class_id = class_ids[i]\n",
    "        score = scores[i] if scores is not None else None\n",
    "        if score is None or score < scores_thresh:\n",
    "            continue\n",
    "\n",
    "        label = class_names[class_id]\n",
    "        if (filter_classs_names is not None) and (label not in filter_classs_names):\n",
    "            continue\n",
    "\n",
    "        if not np.any(boxes[i]):\n",
    "            # Skip this instance. Has no bbox. Likely lost in image cropping.\n",
    "            continue\n",
    "\n",
    "        useful_mask_indices.append(i)\n",
    "\n",
    "    if len(useful_mask_indices) == 0:\n",
    "        print(\"\\n*** No instances in image %s to draw *** \\n\" % (image_name))\n",
    "        return\n",
    "\n",
    "    colors = random_colors(len(useful_mask_indices))\n",
    "\n",
    "    if mode != 3:\n",
    "        masked_image = image.astype(np.uint8).copy()\n",
    "    else:\n",
    "        masked_image = np.zeros(image.shape).astype(np.uint8)\n",
    "\n",
    "    if mode != 1:\n",
    "        for index, value in enumerate(useful_mask_indices):\n",
    "            masked_image = apply_mask(masked_image, masks[:, :, value], colors[index])\n",
    "\n",
    "    masked_image = Image.fromarray(masked_image)\n",
    "\n",
    "    if mode == 3:\n",
    "        masked_image.save(os.path.join(save_dir, '%s.jpg' % (image_name)))\n",
    "        return\n",
    "\n",
    "    draw = ImageDraw.Draw(masked_image)\n",
    "    colors = np.array(colors).astype(int) * 255\n",
    "\n",
    "    myList = []\n",
    "    countClassIds = 0\n",
    "    \n",
    "    for index, value in enumerate(useful_mask_indices):\n",
    "        class_id = class_ids[value]\n",
    "        print('class_id value is {}'.format(class_id))\n",
    "        if class_id == 1:\n",
    "          countClassIds += 1\n",
    "        print('counter for the class ID {}'.format(countClassIds))\n",
    "        \n",
    "        \n",
    "        score = scores[value]\n",
    "        label = class_names[class_id]\n",
    "\n",
    "        y1, x1, y2, x2 = boxes[value]\n",
    "        \n",
    "#         myList = []\n",
    "        \n",
    "        ## area of the rectangle\n",
    "        yVal = y2 - y1\n",
    "        xVal = x2 - x1\n",
    "        area = xVal * yVal\n",
    "        print('area is {}'.format(area))\n",
    "        myList.append(area)\n",
    "        \n",
    "        if mode != 2:\n",
    "            color = tuple(colors[index])\n",
    "            draw.rectangle((x1, y1, x2, y2), outline=color)\n",
    "\n",
    "        # Label\n",
    "#         font = ImageFont.load('/usr/share/fonts/truetype/ttf-bitstream-vera/Vera.ttf')\n",
    "        font = ImageFont.truetype('OpenSans-Bold.ttf', 15)\n",
    "        draw.text((x1, y1), \"%s %f\" % (label, score), (255, 255, 255), font)\n",
    "\n",
    "    print(r['class_ids'], r['scores'])\n",
    "    print(myList)\n",
    "#     print('value of r is {}'.format(r))\n",
    "    print('image_name is {}'.format(image_name))\n",
    "\n",
    "    image_name = os.path.basename(image_name)\n",
    "    print('image name is {}'.format(image_name))\n",
    "\n",
    "    f_name, f_ext = os.path.splitext(image_name)\n",
    "    #f_lat_val,f_long_val,f_count = f_name.split('-')\n",
    "\n",
    "    #f_lat_val = f_lat_val.strip() ##removing the white Space\n",
    "    #f_long_val = f_long_val.strip()\n",
    "\n",
    "#     new_name = '{}-{}-{}.jpg'.format(f_lat_val,f_long_val,count)\n",
    "#     print([area for area in myList if ])\n",
    "#       print([i for i in range(countClassIds) ])\n",
    "      \n",
    "    print(\"avi96 {}\".format(myList[:countClassIds]))\n",
    "#     myList.pop(countClassIds - 1)\n",
    "    \n",
    "    new_name = '{}-{}.jpg'.format(myList, r['scores'])\n",
    "#     masked_image.save(os.path.join(save_dir, '%s.jpg' % (image_name)))\n",
    "    print(\"New Name file is {}\".format(new_name))\n",
    "    print('save_dir is {}'.format(save_dir))\n",
    "    masked_image.save(os.path.join(save_dir, '%s' % (new_name)))\n",
    "    print('file Saved {}'.format(new_name))\n",
    "#     os.rename(image_name, new_name)\n",
    "\n",
    "\n",
    "\n",
    "if __name__ == '__main__':\n",
    "    \"\"\"\n",
    "        test everything\n",
    "    \"\"\"\n",
    "    import os\n",
    "    import sys\n",
    "    import custom\n",
    "    import utils\n",
    "    import model as modellib\n",
    "    #import visualize\n",
    "\n",
    "    # We use a K80 GPU with 24GB memory, which can fit 3 images.\n",
    "    batch_size = 3\n",
    "\n",
    "    ROOT_DIR = os.getcwd()\n",
    "    MODEL_DIR = os.path.join(ROOT_DIR, \"logs\")\n",
    "    VIDEO_DIR = os.path.join(ROOT_DIR, \"videos\")\n",
    "    VIDEO_SAVE_DIR = os.path.join(VIDEO_DIR, \"save\")\n",
    "#     COCO_MODEL_PATH = os.path.join(ROOT_DIR, \"mask_rcnn_damage_0010.h5\")\n",
    "#     if not os.path.exists(COCO_MODEL_PATH):\n",
    "#         utils.download_trained_weights(COCO_MODEL_PATH)\n",
    "\n",
    "    class InferenceConfig(custom.CustomConfig):\n",
    "        GPU_COUNT = 1\n",
    "        IMAGES_PER_GPU = batch_size\n",
    "\n",
    "    config = InferenceConfig()\n",
    "    config.display()\n",
    "\n",
    "    model = modellib.MaskRCNN(\n",
    "        mode=\"inference\", model_dir=MODEL_DIR, config=config\n",
    "    )\n",
    "    model.load_weights(\"logs/mask_rcnn_damage_0160.h5\", by_name=True)\n",
    "    class_names = [\n",
    "        'BG', 'damage'\n",
    "    ]\n",
    "\n",
    "    capture = cv2.VideoCapture(os.path.join(VIDEO_DIR, 'potholedetectionVideo.mp4'))\n",
    "    try:\n",
    "        if not os.path.exists(VIDEO_SAVE_DIR):\n",
    "            os.makedirs(VIDEO_SAVE_DIR)\n",
    "    except OSError:\n",
    "        print ('Error: Creating directory of data')\n",
    "\n",
    "    # points to be done before final coding\n",
    "    \"\"\"\n",
    "    path_for_image_dir\n",
    "    list for the image array\n",
    "    resolve for naming convention for location basis\n",
    "    passing image in model\n",
    "    \"\"\"\n",
    "\n",
    "    # path for the data files\n",
    "    data_path = 'S3_Images/images_800/'\n",
    "    onlyfiles = [f for f in os.listdir(data_path) if os.path.isfile(os.path.join(data_path, f))]\n",
    "\n",
    "    # empty list for the training data\n",
    "    frames = []\n",
    "    frame_count = 0\n",
    "    batch_count = 1\n",
    "\n",
    "    # enumerate the iteration with number of files\n",
    "    for j, files in enumerate(onlyfiles):\n",
    "        image_path = data_path + onlyfiles[j]\n",
    "#         print(\"image Path {}\".format(image_path))\n",
    "#         print(\"Only Files {}\".format(onlyfiles[j]))\n",
    "#         print('j is {}'.format(j))\n",
    "#         print('files is {}'.format(files))\n",
    "        try:\n",
    "            images = cv2.imread(image_path).astype(np.uint8)\n",
    "#             print(\"images {}\".format(images))\n",
    "            frames.append(np.asarray(images, dtype=np.uint8))\n",
    "  #         frames.append(images)\n",
    "            frame_count += 1\n",
    "            print('frame_count :{0}'.format(frame_count))\n",
    "            if len(frames) == batch_size:\n",
    "                results = model.detect(frames, verbose=0)\n",
    "                print('Predicted')\n",
    "                for i, item in enumerate(zip(frames, results)):\n",
    "#                     print('i is {}'.format(i))\n",
    "#                     print('item is {}'.format(item))\n",
    "                    frame = item[0]\n",
    "                    r = item[1]\n",
    "                    frame = display_instances(\n",
    "                      frame, r['rois'], r['masks'], r['class_ids'], class_names, r['scores']\n",
    "                    )\n",
    "                    name = '{}'.format(files)\n",
    "                    name = os.path.join(VIDEO_SAVE_DIR, name)\n",
    "#                     name = '{0}.jpg'.format(frame_count + i - batch_size)\n",
    "#                     name = os.path.join(VIDEO_SAVE_DIR, name)\n",
    "#                   cv2.imwrite(name, frame)\n",
    "#                     print(name)\n",
    "                    print('writing to file:{0}'.format(name))\n",
    "#                     print(name)\n",
    "                    save_image(images, name, r['rois'], r['masks'], r['class_ids'],\n",
    "                             r['scores'], class_names, save_dir=VIDEO_SAVE_DIR, mode=0)\n",
    "                frames = []\n",
    "                print('clear')\n",
    "              # clear the frames here\n",
    "\n",
    "        except(AttributeError) as e:\n",
    "            print('Bad Image {}'.format(image_path))\n",
    "\n",
    "    print(\"Success, check the folder\")\n",
    "\n",
    "\n",
    "\n",
    "    \n",
    "    ## Code for the video section\n",
    "    frames = []\n",
    "    frame_count = 0\n",
    "    # these 2 lines can be removed if you dont have a 1080p camera.\n",
    "    capture.set(cv2.CAP_PROP_FRAME_WIDTH, 1920)\n",
    "    capture.set(cv2.CAP_PROP_FRAME_HEIGHT, 1080)\n",
    "\n",
    "\n",
    "    while True:\n",
    "        ret, frame = capture.read()\n",
    "        # Bail out when the video file ends\n",
    "        if not ret:\n",
    "            break\n",
    "\n",
    "        # Save each frame of the video to a list\n",
    "        frame_count += 1\n",
    "        frames.append(frame)\n",
    "        print('frame_count :{0}'.format(frame_count))\n",
    "        if len(frames) == batch_size:\n",
    "            results = model.detect(frames, verbose=0)\n",
    "            print('Predicted')\n",
    "            for i, item in enumerate(zip(frames, results)):\n",
    "                frame = item[0]\n",
    "                r = item[1]\n",
    "                frame = display_instances(\n",
    "                    frame, r['rois'], r['masks'], r['class_ids'], class_names, r['scores']\n",
    "                )\n",
    "                 name = '{0}.jpg'.format(frame_count + i - batch_size)\n",
    "                 name = os.path.join(VIDEO_SAVE_DIR, name)\n",
    "                 cv2.imwrite(name, frame)\n",
    "                 print('writing to file:{0}'.format(name))\n",
    "                ## add visualise files\n",
    "                 visualize.display_instances(image, r['rois'], r['masks'], r['class_ids'],\n",
    "                             class_names, r['scores'])\n",
    "                save_image(image, name, r['rois'], r['masks'], r['class_ids'],\n",
    "                                     r['scores'],class_names, save_dir=VIDEO_SAVE_DIR, mode=0)\n",
    "                 print(r['class_ids'], r['scores'])\n",
    "\n",
    "            # Clear the frames array to start the next batch\n",
    "            frames = []\n",
    "\n",
    "    capture.release() \n",
    "\n",
    "\n"
   ]
  },
  {
   "cell_type": "code",
   "execution_count": 21,
   "metadata": {},
   "outputs": [
    {
     "data": {
      "text/plain": [
       "'/home/timothy/Desktop/projectx/Mask_RCNN'"
      ]
     },
     "execution_count": 21,
     "metadata": {},
     "output_type": "execute_result"
    }
   ],
   "source": [
    "pwd"
   ]
  },
  {
   "cell_type": "code",
   "execution_count": 22,
   "metadata": {},
   "outputs": [
    {
     "name": "stdout",
     "output_type": "stream",
     "text": [
      "\u001b[0m\u001b[01;35m'[13676, 9785, 18915, 3528, 8704]-[0.9999808  0.9998956  0.9998634  0.99794704 0.9850227 ].jpg'\u001b[0m\u001b[K\r\n",
      "\u001b[01;35m'[13676, 9785, 18915, 3528, 8704]-[0.9999808  0.9998956  0.9998634  0.99794716 0.9850227 ].jpg'\u001b[0m\u001b[K\r\n",
      "\u001b[01;35m'[13676, 9785, 18915, 3528, 8704]-[0.9999808  0.9998956  0.9998634  0.99794716 0.98502284].jpg'\u001b[0m\u001b[K\r\n",
      "\u001b[01;35m'[13676, 9785, 18915, 3528, 8704]-[0.9999808 0.9998956 0.9998634 0.9979475 0.9850227].jpg'\u001b[0m\u001b[K\r\n",
      "\u001b[01;35m'[13676, 9785, 18915, 3528, 8704]-[0.9999808  0.9998956  0.9998634  0.997948   0.98502284].jpg'\u001b[0m\u001b[K\r\n",
      "\u001b[01;35m'[1386]-[0.9938665].jpg'\u001b[0m\r\n",
      "\u001b[01;35m'[1386]-[0.9938666].jpg'\u001b[0m\r\n",
      "\u001b[01;35m'[1386]-[0.99386674].jpg'\u001b[0m\r\n",
      "\u001b[01;35m'[1386]-[0.9938676].jpg'\u001b[0m\r\n",
      "\u001b[01;35m'[1386]-[0.99387].jpg'\u001b[0m\r\n",
      "\u001b[01;35m'[1520]-[0.99486035].jpg'\u001b[0m\r\n",
      "\u001b[01;35m'[1520]-[0.99486107].jpg'\u001b[0m\r\n",
      "\u001b[01;35m'[1520]-[0.99486166].jpg'\u001b[0m\r\n",
      "\u001b[01;35m'[1520]-[0.99994373].jpg'\u001b[0m\r\n",
      "\u001b[01;35m'[2520]-[0.99988055].jpg'\u001b[0m\r\n",
      "\u001b[01;35m'[2544]-[0.99984765].jpg'\u001b[0m\r\n",
      "\u001b[01;35m'[27744, 15219]-[0.9999858 0.9999677].jpg'\u001b[0m\r\n",
      "\u001b[01;35m'[546]-[0.9990226].jpg'\u001b[0m\r\n",
      "\u001b[01;35m'[75, 68, 156]-[0.99882025 0.9963391  0.9828452 ].jpg'\u001b[0m\r\n"
     ]
    }
   ],
   "source": [
    "ls videos/save/"
   ]
  },
  {
   "cell_type": "code",
   "execution_count": 36,
   "metadata": {},
   "outputs": [
    {
     "ename": "SyntaxError",
     "evalue": "invalid syntax (<ipython-input-36-3daf6b00c8e7>, line 1)",
     "output_type": "error",
     "traceback": [
      "\u001b[0;36m  File \u001b[0;32m\"<ipython-input-36-3daf6b00c8e7>\"\u001b[0;36m, line \u001b[0;32m1\u001b[0m\n\u001b[0;31m    zip -r savex videos/save/\u001b[0m\n\u001b[0m               ^\u001b[0m\n\u001b[0;31mSyntaxError\u001b[0m\u001b[0;31m:\u001b[0m invalid syntax\n"
     ]
    }
   ],
   "source": [
    "zip -r savex videos/save/"
   ]
  },
  {
   "cell_type": "code",
   "execution_count": 37,
   "metadata": {},
   "outputs": [
    {
     "ename": "SyntaxError",
     "evalue": "invalid syntax (<ipython-input-37-1f9b83a12287>, line 1)",
     "output_type": "error",
     "traceback": [
      "\u001b[0;36m  File \u001b[0;32m\"<ipython-input-37-1f9b83a12287>\"\u001b[0;36m, line \u001b[0;32m1\u001b[0m\n\u001b[0;31m    zip -r xx.zip videos/save\u001b[0m\n\u001b[0m            ^\u001b[0m\n\u001b[0;31mSyntaxError\u001b[0m\u001b[0;31m:\u001b[0m invalid syntax\n"
     ]
    }
   ],
   "source": [
    "zip -r xx.zip videos/save"
   ]
  },
  {
   "cell_type": "code",
   "execution_count": null,
   "metadata": {},
   "outputs": [],
   "source": [
    "zip -r xx.zip address/"
   ]
  }
 ],
 "metadata": {
  "accelerator": "GPU",
  "colab": {
   "include_colab_link": true,
   "name": "TechFest Project 2019 PSA.ipynb",
   "provenance": [],
   "version": "0.3.2"
  },
  "kernelspec": {
   "display_name": "Python 3",
   "language": "python",
   "name": "python3"
  },
  "language_info": {
   "codemirror_mode": {
    "name": "ipython",
    "version": 3
   },
   "file_extension": ".py",
   "mimetype": "text/x-python",
   "name": "python",
   "nbconvert_exporter": "python",
   "pygments_lexer": "ipython3",
   "version": "3.6.9"
  }
 },
 "nbformat": 4,
 "nbformat_minor": 1
}
